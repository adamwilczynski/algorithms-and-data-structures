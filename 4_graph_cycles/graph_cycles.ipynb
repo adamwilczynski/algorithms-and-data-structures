{
 "cells": [
  {
   "cell_type": "markdown",
   "source": [
    "Kuba Czech | Adam Wilczyński\n",
    "\n",
    "# Algorithms with backtracking (Eulerian and Hamiltonian cycle)\n",
    "\n",
    "## Euler cycle\n",
    "\n",
    "Type of cycle where it is possible to choose such a route that we can traverse every arc only once and finish in a starting vertex (but we can visit each node more than once)\n",
    "\n",
    "## Hamiltonian cycle\n",
    "\n",
    "Cycle where it is possible to choose such a route that we can visit every vertex once and finish in a starting vertex (but we can traverse through each arc more than once)"
   ],
   "metadata": {
    "collapsed": false
   }
  },
  {
   "cell_type": "code",
   "execution_count": 1,
   "outputs": [
    {
     "name": "stdout",
     "output_type": "stream",
     "text": [
      "Euler cycle:  deque([8, 7, 6, 5, 4, 3, 2, 1, 8])\n",
      "Hamiltonian cycle:  [1, 8, 7, 6, 5, 4, 3, 2]\n"
     ]
    }
   ],
   "source": [
    "import timeit\n",
    "\n",
    "import graph_cycles\n",
    "\n",
    "graph_with_cycle = {\n",
    "    1: [8, 2],\n",
    "    2: [1, 3],\n",
    "    3: [2, 4],\n",
    "    4: [3, 5],\n",
    "    5: [4, 6],\n",
    "    6: [5, 7],\n",
    "    7: [6, 8],\n",
    "    8: [7, 1],\n",
    "}\n",
    "\n",
    "print(\"Euler cycle: \", graph_cycles.find_euler_cycle_using_hierholzer(graph_with_cycle))\n",
    "print(\"Hamiltonian cycle: \", graph_cycles.find_hamiltonian_cycle_using_backtracking(graph_with_cycle, []))"
   ],
   "metadata": {
    "collapsed": false,
    "ExecuteTime": {
     "end_time": "2023-05-22T21:40:00.988214300Z",
     "start_time": "2023-05-22T21:40:00.982562600Z"
    }
   }
  },
  {
   "cell_type": "code",
   "execution_count": null,
   "outputs": [],
   "source": [],
   "metadata": {
    "collapsed": false
   }
  }
 ],
 "metadata": {
  "kernelspec": {
   "display_name": "Python 3",
   "language": "python",
   "name": "python3"
  },
  "language_info": {
   "codemirror_mode": {
    "name": "ipython",
    "version": 2
   },
   "file_extension": ".py",
   "mimetype": "text/x-python",
   "name": "python",
   "nbconvert_exporter": "python",
   "pygments_lexer": "ipython2",
   "version": "2.7.6"
  }
 },
 "nbformat": 4,
 "nbformat_minor": 0
}
