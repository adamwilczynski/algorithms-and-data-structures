{
 "cells": [
  {
   "cell_type": "code",
   "execution_count": 35,
   "metadata": {
    "collapsed": true,
    "ExecuteTime": {
     "end_time": "2023-05-22T06:52:37.130764200Z",
     "start_time": "2023-05-22T06:52:37.130764200Z"
    }
   },
   "outputs": [],
   "source": [
    "import numpy as np"
   ]
  },
  {
   "cell_type": "code",
   "execution_count": 55,
   "outputs": [],
   "source": [
    "def fibonacci_using_matrices(n):\n",
    "    result = np.array(\n",
    "    [\n",
    "        [1, 1],\n",
    "        [1, 0]\n",
    "    ]\n",
    "    )\n",
    "\n",
    "    if n == 0:\n",
    "        return 1\n",
    "    n -= 1\n",
    "    for _ in range(n):\n",
    "        result = np.matmul(result, result)\n",
    "    return result[0, 0]\n"
   ],
   "metadata": {
    "collapsed": false,
    "ExecuteTime": {
     "end_time": "2023-05-22T07:02:02.438364900Z",
     "start_time": "2023-05-22T07:02:02.427150800Z"
    }
   }
  },
  {
   "cell_type": "code",
   "execution_count": 58,
   "outputs": [
    {
     "name": "stdout",
     "output_type": "stream",
     "text": [
      "0 1\n",
      "1 1\n",
      "2 2\n",
      "3 5\n",
      "4 34\n",
      "5 1597\n",
      "6 3524578\n",
      "7 695895453\n",
      "8 1252772578\n",
      "9 -1458525411\n"
     ]
    }
   ],
   "source": [
    "for i in range(10):\n",
    "    print(i, fibonacci_using_matrices(i))"
   ],
   "metadata": {
    "collapsed": false,
    "ExecuteTime": {
     "end_time": "2023-05-22T07:02:23.963969800Z",
     "start_time": "2023-05-22T07:02:23.951453Z"
    }
   }
  },
  {
   "cell_type": "code",
   "execution_count": 63,
   "outputs": [
    {
     "data": {
      "text/plain": "array([[ 2,  1, 10,  4, 19],\n       [ 3, 16, 18,  6,  8],\n       [ 0, 12, 15,  7,  5],\n       [ 9, 17, 13, 11, 14]])"
     },
     "execution_count": 63,
     "metadata": {},
     "output_type": "execute_result"
    }
   ],
   "source": [
    "map_matrx = np.arange(20)\n",
    "np.random.shuffle(map_matrx)\n",
    "map_matrx = map_matrx.reshape((4, 5))\n",
    "map_matrx"
   ],
   "metadata": {
    "collapsed": false,
    "ExecuteTime": {
     "end_time": "2023-05-22T07:07:15.262838700Z",
     "start_time": "2023-05-22T07:07:15.250284100Z"
    }
   }
  },
  {
   "cell_type": "code",
   "execution_count": null,
   "outputs": [],
   "source": [
    "from collections import namedtuple, deque\n",
    "\n",
    "Point = namedtuple(\"Point\", \"x y\")\n",
    "visited = set()\n",
    "\n",
    "def get_neighbours(index: Point, map_matrix: np.array):\n",
    "    if index.x > 0:\n",
    "        yield Point(index.x - 1, index.y)\n",
    "    if index.y > 0:\n",
    "        yield Point(index.x, index.y - 1)\n",
    "    if index.x + 1 < map_matrix.shape[0]:\n",
    "        yield Point(index.x + 1, index.y)\n",
    "    if index.y + 1 < map_matrix.shape[1]:\n",
    "        yield Point(index.x, index.y + 1)\n",
    "\n",
    "def dfs(start_node: Point):\n",
    "    global map_matrx\n",
    "    global visited\n",
    "    global max_weight\n",
    "    global target_node\n",
    "\n",
    "    current_node = start_node\n",
    "    path = deque([current_node])\n",
    "\n",
    "    if start_node == target_node:\n",
    "        return path\n",
    "\n",
    "    for node in get_neighbours(current_node):\n",
    "        path.extend(dfs(node))\n",
    "\n",
    "    return path\n",
    "\n",
    "def water_level_problem(map_matrix):\n"
   ],
   "metadata": {
    "collapsed": false
   }
  },
  {
   "cell_type": "code",
   "execution_count": null,
   "outputs": [],
   "source": [],
   "metadata": {
    "collapsed": false
   }
  }
 ],
 "metadata": {
  "kernelspec": {
   "display_name": "Python 3",
   "language": "python",
   "name": "python3"
  },
  "language_info": {
   "codemirror_mode": {
    "name": "ipython",
    "version": 2
   },
   "file_extension": ".py",
   "mimetype": "text/x-python",
   "name": "python",
   "nbconvert_exporter": "python",
   "pygments_lexer": "ipython2",
   "version": "2.7.6"
  }
 },
 "nbformat": 4,
 "nbformat_minor": 0
}
