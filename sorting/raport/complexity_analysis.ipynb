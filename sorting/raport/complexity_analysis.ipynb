{
 "cells": [
  {
   "cell_type": "code",
   "execution_count": 4,
   "metadata": {
    "collapsed": true
   },
   "outputs": [],
   "source": [
    "import pandas as pd\n",
    "\n",
    "import math"
   ]
  },
  {
   "cell_type": "code",
   "execution_count": 11,
   "outputs": [
    {
     "name": "stdout",
     "output_type": "stream",
     "text": [
      "fully_random.csv\n",
      "insertion_sort_time\n",
      "7.174259546132812 100 664.3856189774725\n",
      "11.702828839881931 100 9965.784284662088\n",
      "10.38516589707523 100 132877.1237954945\n",
      "merge_sort_time\n",
      "1.209526359847765 100 664.3856189774725\n",
      "1.282877214603313 100 9965.784284662088\n",
      "1.2444363190669054 100 132877.1237954945\n",
      "tim_sort_time\n",
      "0.7663888718323555 100 664.3856189774725\n",
      "1.3041319313442297 100 9965.784284662088\n",
      "1.2859912174550985 100 132877.1237954945\n",
      "\n",
      "\n",
      "\n",
      "\n",
      "half_sorted.csv\n",
      "insertion_sort_time\n",
      "12.804982020600498 100 664.3856189774725\n",
      "11.924098023175114 100 9965.784284662088\n",
      "10.455337779926234 100 132877.1237954945\n",
      "merge_sort_time\n",
      "1.4659814885116371 100 664.3856189774725\n",
      "1.260988612802364 100 9965.784284662088\n",
      "1.2475476628866937 100 132877.1237954945\n",
      "tim_sort_time\n",
      "0.6145270143732421 100 664.3856189774725\n",
      "0.8406542019860032 100 9965.784284662088\n",
      "1.6180001957345134 100 132877.1237954945\n",
      "\n",
      "\n",
      "\n",
      "\n",
      "part_sorted.csv\n",
      "insertion_sort_time\n",
      "8.045810140919217 100 664.3856189774725\n",
      "12.008019745606921 100 9965.784284662088\n",
      "10.345759948027146 100 132877.1237954945\n",
      "merge_sort_time\n",
      "1.260937790009818 100 664.3856189774725\n",
      "1.2947071458840895 100 9965.784284662088\n",
      "1.2193382035277376 100 132877.1237954945\n",
      "tim_sort_time\n",
      "0.7483961446656332 100 664.3856189774725\n",
      "1.3527208429081694 100 9965.784284662088\n",
      "1.2732624298654733 100 132877.1237954945\n",
      "\n",
      "\n",
      "\n",
      "\n"
     ]
    }
   ],
   "source": [
    "for file_name in (\"fully_random.csv\", \"half_sorted.csv\", \"part_sorted.csv\"):\n",
    "    print(file_name)\n",
    "    df = pd.read_csv(f\"experiment_results/{file_name}\", header=0)\n",
    "    for algorithm in \"insertion_sort_time merge_sort_time tim_sort_time\".split():\n",
    "        print(algorithm)\n",
    "        execution_time_list = df[algorithm].to_list()\n",
    "        complexity_list = []\n",
    "        for i in range(1, len(execution_time_list)):\n",
    "            change_observed = execution_time_list[i] / execution_time_list[i-1]\n",
    "            change_n_squared = 100\n",
    "            previous_n = (10 ** i)\n",
    "            current_n = previous_n * 10\n",
    "            change_n_log_n = (current_n * math.log(current_n, 2))\n",
    "            print(change_observed, change_n_squared, change_n_log_n)\n",
    "    print(\"\\n\\n\\n\")"
   ],
   "metadata": {
    "collapsed": false
   }
  },
  {
   "cell_type": "code",
   "execution_count": null,
   "outputs": [],
   "source": [],
   "metadata": {
    "collapsed": false
   }
  }
 ],
 "metadata": {
  "kernelspec": {
   "display_name": "Python 3",
   "language": "python",
   "name": "python3"
  },
  "language_info": {
   "codemirror_mode": {
    "name": "ipython",
    "version": 2
   },
   "file_extension": ".py",
   "mimetype": "text/x-python",
   "name": "python",
   "nbconvert_exporter": "python",
   "pygments_lexer": "ipython2",
   "version": "2.7.6"
  }
 },
 "nbformat": 4,
 "nbformat_minor": 0
}
