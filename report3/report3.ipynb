{
 "cells": [
  {
   "cell_type": "markdown",
   "source": [
    "Adam Wilczyński 156 065 | Kuba Czech 156 035\n",
    "group 3\n",
    "\n",
    "# Report 3 - Basic Graph Algorithms"
   ],
   "metadata": {
    "collapsed": false
   }
  },
  {
   "cell_type": "markdown",
   "source": [
    "## Graphs\n",
    "\n",
    "### Definition\n",
    "\n",
    "Graph is a data structure used for representing relations between nodes (vertices) using edges (arcs).\n",
    "\n",
    "### Directed and Undirected Graphs\n",
    "\n",
    "In directed graphs the edges have the following meaning:\n",
    "\n",
    "u <-> v\n",
    "both-way relation\n",
    "\n",
    "u -> v\n",
    "u is precedent of v, v is ascendant of u\n",
    "\n",
    "### Cyclic and Acyclic Graphs\n",
    "\n",
    "cyclic graph - graph containing a cycle\n",
    "\n",
    "cycle - closed path\n",
    "path - walk without repeating vertices\n",
    "walk - traversing graph vertices using edges\n",
    "\n",
    "#### Topological Sorting on DAG (Directed Acyclic Graphs)\n",
    "\n",
    "List of graph vertices such that if u precedes v on the list, there exists a path from u to v on DAG.\n",
    "\n",
    "Topological sorting is useful for determining order of tasks dependent on each other.\n",
    "\n",
    "Example practical applications:\n",
    "- dependency resolution\n",
    "- task scheduling\n",
    "- data processing\n",
    "- compiler design\n",
    "- network routing\n",
    "\n",
    "## Program Specifications\n",
    "\n",
    "### Random Directed Acyclic Graph\n",
    "\n",
    "Time Complexity: O(n)\n",
    "\n",
    "### Topological Sort with DFS on Adjacency List\n",
    "\n",
    "Time Complexity: O(n^2)\n",
    "\n",
    "### Topological Sort with DFS on Adjacency Matrix\n",
    "\n",
    "Time Complexity: O(n^2)\n"
   ],
   "metadata": {
    "collapsed": false
   }
  },
  {
   "cell_type": "code",
   "execution_count": 1,
   "metadata": {
    "collapsed": true
   },
   "outputs": [
    {
     "ename": "ModuleNotFoundError",
     "evalue": "No module named 'dag_report'",
     "output_type": "error",
     "traceback": [
      "\u001B[1;31m---------------------------------------------------------------------------\u001B[0m",
      "\u001B[1;31mModuleNotFoundError\u001B[0m                       Traceback (most recent call last)",
      "Cell \u001B[1;32mIn[1], line 3\u001B[0m\n\u001B[0;32m      1\u001B[0m \u001B[38;5;28;01mimport\u001B[39;00m \u001B[38;5;21;01mpandas\u001B[39;00m \u001B[38;5;28;01mas\u001B[39;00m \u001B[38;5;21;01mpd\u001B[39;00m\n\u001B[1;32m----> 3\u001B[0m \u001B[38;5;28;01mfrom\u001B[39;00m \u001B[38;5;21;01mdag_report\u001B[39;00m \u001B[38;5;28;01mimport\u001B[39;00m DAG\n",
      "\u001B[1;31mModuleNotFoundError\u001B[0m: No module named 'dag_report'"
     ]
    }
   ],
   "source": [
    "import pandas as pd\n",
    "\n",
    "from dag_report import DAG"
   ]
  },
  {
   "cell_type": "markdown",
   "source": [
    "## Showcase"
   ],
   "metadata": {
    "collapsed": false
   }
  },
  {
   "cell_type": "code",
   "execution_count": null,
   "outputs": [],
   "source": [
    "test_dag = DAG(6, 5)\n",
    "\n",
    "print(\"REPRESENTATION\")\n",
    "\n",
    "print(f\"Edge List Representation:\\n{test_dag.edge_list_representation}\\n\")\n",
    "print(f\"Adjacency List Representation:\\n{test_dag.adjacency_list_representation}\\n\")\n",
    "print(f\"Adjacency Matrix Representation:\\n{test_dag.adjacency_matrix_representation}\\n\")\n",
    "\n",
    "print(\"TOPOLOGICAL SORTING\")\n",
    "\n",
    "print(f\"Adjacency List:\\n{test_dag.topological_sort_with_dfs_on_adjacency_list()}\\n\")\n",
    "print(f\"Adjacency Matrix:\\n{test_dag.topological_sort_with_dfs_on_adjacency_matrix()}\\n\")\n",
    "print(f\"Naive:\\n{test_dag.topological_sort_naive_on_edge_list()}\\n\")"
   ],
   "metadata": {
    "collapsed": false
   }
  },
  {
   "cell_type": "code",
   "execution_count": null,
   "outputs": [],
   "source": [
    "import timeit\n",
    "\n",
    "EXPERIMENT_NUMBER = 5\n",
    "\n",
    "adjacency_list = []\n",
    "adjacency_matrix = []\n",
    "naive_list = []\n",
    "\n",
    "vertex_range = [8, 16, 32, 64, 128, 256]\n",
    "\n",
    "for vertex_count in vertex_range:\n",
    "    maximum_edge_count = vertex_count * (vertex_count - 1)\n",
    "    dag = DAG(vertex_count, maximum_edge_count)\n",
    "\n",
    "    adjacency_list.append(\n",
    "        timeit.timeit(\n",
    "            stmt=lambda: dag.topological_sort_with_dfs_on_adjacency_list(),\n",
    "            number=EXPERIMENT_NUMBER\n",
    "        )\n",
    "    )\n",
    "\n",
    "    adjacency_matrix.append(\n",
    "        timeit.timeit(\n",
    "            stmt=lambda: dag.topological_sort_with_dfs_on_adjacency_matrix(),\n",
    "            number=EXPERIMENT_NUMBER\n",
    "        )\n",
    "    )\n",
    "\n",
    "    naive_list.append(\n",
    "        timeit.timeit(\n",
    "            stmt=lambda: dag.topological_sort_naive_on_edge_list(),\n",
    "            number=EXPERIMENT_NUMBER\n",
    "        )\n",
    "    )\n",
    "\n",
    "[adjacency_list, adjacency_matrix, naive_list]"
   ],
   "metadata": {
    "collapsed": false
   }
  },
  {
   "cell_type": "code",
   "execution_count": null,
   "outputs": [],
   "source": [
    "data = {\n",
    "    \"nodes_number\": vertex_range,\n",
    "    # \"edge_number\": [vertex_count * (vertex_count - 1) for vertex_count in vertex_range],\n",
    "    \"adjacency_list\": adjacency_list,\n",
    "    \"adjacency_matrix\": adjacency_matrix,\n",
    "    \"naive_list\": naive_list,\n",
    "}\n",
    "df = pd.DataFrame(data).melt(\"nodes_number\", var_name=\"method\", value_name=\"seconds\")\n",
    "df"
   ],
   "metadata": {
    "collapsed": false
   }
  },
  {
   "cell_type": "code",
   "execution_count": null,
   "outputs": [],
   "source": [
    "import matplotlib.pyplot as plt\n",
    "import seaborn as sns\n",
    "\n",
    "sns.catplot(df, x=\"nodes_number\", y=\"seconds\", hue=\"method\", kind=\"point\")\n",
    "# plt.yscale(\"log\")"
   ],
   "metadata": {
    "collapsed": false
   }
  },
  {
   "cell_type": "code",
   "execution_count": null,
   "outputs": [],
   "source": [],
   "metadata": {
    "collapsed": false
   }
  }
 ],
 "metadata": {
  "kernelspec": {
   "display_name": "Python 3",
   "language": "python",
   "name": "python3"
  },
  "language_info": {
   "codemirror_mode": {
    "name": "ipython",
    "version": 2
   },
   "file_extension": ".py",
   "mimetype": "text/x-python",
   "name": "python",
   "nbconvert_exporter": "python",
   "pygments_lexer": "ipython2",
   "version": "2.7.6"
  }
 },
 "nbformat": 4,
 "nbformat_minor": 0
}
